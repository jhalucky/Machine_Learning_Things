{
 "cells": [
  {
   "cell_type": "code",
   "execution_count": 2,
   "metadata": {},
   "outputs": [],
   "source": [
    "import numpy as np\n",
    "import pandas as pd\n",
    "from sklearn.linear_model import LinearRegression\n",
    "import math"
   ]
  },
  {
   "cell_type": "code",
   "execution_count": 3,
   "metadata": {},
   "outputs": [
    {
     "data": {
      "text/plain": [
       "(array([1.01773624]), np.float64(1.9152193111569034))"
      ]
     },
     "execution_count": 3,
     "metadata": {},
     "output_type": "execute_result"
    }
   ],
   "source": [
    "def predict_using_sklearn():\n",
    "    df = pd.read_csv(\"test_scores.csv\")\n",
    "    reg = LinearRegression()\n",
    "    reg.fit(df[[\"math\"]],df['cs'])\n",
    "    return reg.coef_, reg.intercept_\n",
    "\n",
    "predict_using_sklearn()"
   ]
  },
  {
   "cell_type": "code",
   "execution_count": 4,
   "metadata": {},
   "outputs": [
    {
     "name": "stdout",
     "output_type": "stream",
     "text": [
      "m=1.9783600000000003,b=0.027960000000000002,iteration=0\n",
      "Using gradient descent function: Coef 1.9783600000000003 Intercept 0.027960000000000002\n",
      "Using sklearn: Coef [1.01773624] Intercept 1.9152193111569034\n"
     ]
    }
   ],
   "source": [
    "def gradient_descent(x,y):\n",
    "    m_curr = b_curr = 0\n",
    "    iterations = 1000000\n",
    "    n = len(x)\n",
    "    learning_rate = 0.0002\n",
    "    cost_previous = 0\n",
    "\n",
    "    for i in range(iterations):\n",
    "        y_predicted = m_curr * x + b_curr\n",
    "        cost = (1/n)*sum([val**2 for val in y-y_predicted])\n",
    "        md = -(2/n)*sum(x*(y-y_predicted))\n",
    "        bd = -(2/n)*sum(y-y_predicted)\n",
    "        m_curr = m_curr - learning_rate *md\n",
    "        b_curr = b_curr - learning_rate *bd\n",
    "\n",
    "        print(f\"m={m_curr},b={b_curr},iteration={i}\")\n",
    "\n",
    "        if math.isclose(cost, cost_previous, rel_tol = 1e-20):\n",
    "            break\n",
    "        cost_previous = cost\n",
    "\n",
    "        # if i % 50000 == 0:\n",
    "        #     print(f\"Iteration {i}: m = {m_curr}, b = {b_curr}, cost = {cost}\")\n",
    "        return m_curr, b_curr\n",
    "\n",
    "\n",
    "\n",
    "\n",
    "if __name__ == \"__main__\":\n",
    "    df = pd.read_csv(\"test_scores.csv\")\n",
    "    x = np.array(df['math'])\n",
    "    y = np.array(df['cs'])\n",
    "\n",
    "    m,b = gradient_descent(x,y)\n",
    "    print(\"Using gradient descent function: Coef {} Intercept {}\".format(m, b))\n",
    "\n",
    "    m_sklearn, b_sklearn = predict_using_sklearn()\n",
    "    print(\"Using sklearn: Coef {} Intercept {}\".format(m_sklearn, b_sklearn))\n",
    "    \n",
    "\n",
    "\n",
    "\n"
   ]
  },
  {
   "cell_type": "code",
   "execution_count": null,
   "metadata": {},
   "outputs": [],
   "source": []
  }
 ],
 "metadata": {
  "kernelspec": {
   "display_name": "Python 3",
   "language": "python",
   "name": "python3"
  },
  "language_info": {
   "codemirror_mode": {
    "name": "ipython",
    "version": 3
   },
   "file_extension": ".py",
   "mimetype": "text/x-python",
   "name": "python",
   "nbconvert_exporter": "python",
   "pygments_lexer": "ipython3",
   "version": "3.10.12"
  }
 },
 "nbformat": 4,
 "nbformat_minor": 2
}
